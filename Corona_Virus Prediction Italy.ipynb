{
 "cells": [
  {
   "cell_type": "code",
   "execution_count": 15,
   "metadata": {},
   "outputs": [],
   "source": [
    "import pandas as pd\n",
    "import numpy as np\n",
    "from datetime import datetime,timedelta\n",
    "from sklearn.metrics import mean_squared_error\n",
    "from scipy.optimize import curve_fit\n",
    "from scipy.optimize import fsolve\n",
    "import matplotlib.pyplot as plt\n",
    "%matplotlib inline"
   ]
  },
  {
   "cell_type": "code",
   "execution_count": 16,
   "metadata": {},
   "outputs": [],
   "source": [
    "url = \"https://raw.githubusercontent.com/pcm-dpc/COVID-19/master/dati-andamento-nazionale/dpc-covid19-ita-andamento-nazionale.csv\"\n",
    "df = pd.read_csv(url)"
   ]
  },
  {
   "cell_type": "code",
   "execution_count": 17,
   "metadata": {},
   "outputs": [],
   "source": [
    "df = df.loc[:,['data','totale_casi']]"
   ]
  },
  {
   "cell_type": "code",
   "execution_count": 18,
   "metadata": {},
   "outputs": [],
   "source": [
    "FMT = '%Y-%m-%d %H:%M:%S'\n",
    "date = df['data']"
   ]
  },
  {
   "cell_type": "code",
   "execution_count": 19,
   "metadata": {},
   "outputs": [
    {
     "name": "stdout",
     "output_type": "stream",
     "text": [
      "    data  totale_casi\n",
      "0     54          229\n",
      "1     55          322\n",
      "2     56          400\n",
      "3     57          650\n",
      "4     58          888\n",
      "5     59         1128\n",
      "6     60         1694\n",
      "7     61         2036\n",
      "8     62         2502\n",
      "9     63         3089\n",
      "10    64         3858\n",
      "11    65         4636\n",
      "12    66         5883\n",
      "13    67         7375\n",
      "14    68         9172\n",
      "15    69        10149\n",
      "16    70        12462\n",
      "17    71        15113\n",
      "18    72        17660\n",
      "19    73        21157\n",
      "20    74        24747\n",
      "21    75        27980\n",
      "22    76        31506\n",
      "23    77        35713\n"
     ]
    }
   ],
   "source": [
    "df['data'] = date.map(lambda x : (datetime.strptime(x, FMT) - datetime.strptime(\"2020-01-01 00:00:00\", FMT)).days  )\n",
    "print(df)"
   ]
  },
  {
   "cell_type": "markdown",
   "metadata": {},
   "source": [
    "## LOGISTIC MODEL"
   ]
  },
  {
   "cell_type": "code",
   "execution_count": 20,
   "metadata": {},
   "outputs": [],
   "source": [
    "# Logistic function that we will use: L(a, x, y, z): z/(1 + e^-((a - y)/x)) \n",
    "#a => time \n",
    "#x => refers to the infection speed\n",
    "#y => day of max infections (possible inflection point. dL/dx starts to decrease)\n",
    "#z => total number of recorded infected people at the end of this infection(number of infected people \n",
    "                                                                      #gets closer to z as time t increases)"
   ]
  },
  {
   "cell_type": "code",
   "execution_count": 21,
   "metadata": {},
   "outputs": [],
   "source": [
    "def L(a,x,y,z):\n",
    "    return z/(1+np.exp(-(a-y)/x))"
   ]
  },
  {
   "cell_type": "markdown",
   "metadata": {},
   "source": [
    "<img src = \"/Users/shreyash/Downloads/CodeCogsEqn.gif\" >"
   ]
  },
  {
   "cell_type": "code",
   "execution_count": 22,
   "metadata": {},
   "outputs": [
    {
     "data": {
      "image/gif": "[encoded data removed]",
      "text/plain": [
       "<IPython.core.display.Image object>"
      ]
     },
     "execution_count": 22,
     "metadata": {},
     "output_type": "execute_result"
    }
   ],
   "source": [
    "from IPython.display import Image\n",
    "Image(filename='/Users/shreyash/Downloads/CodeCogsEqn.gif')"
   ]
  },
  {
   "cell_type": "code",
   "execution_count": 23,
   "metadata": {},
   "outputs": [
    {
     "name": "stdout",
     "output_type": "stream",
     "text": [
      "[54, 55, 56, 57, 58, 59, 60, 61, 62, 63, 64, 65, 66, 67, 68, 69, 70, 71, 72, 73, 74, 75, 76, 77]\n",
      "[229, 322, 400, 650, 888, 1128, 1694, 2036, 2502, 3089, 3858, 4636, 5883, 7375, 9172, 10149, 12462, 15113, 17660, 21157, 24747, 27980, 31506, 35713]\n"
     ]
    }
   ],
   "source": [
    "x = list(df.iloc[:,0])\n",
    "y = list(df.iloc[:,1])\n",
    "print(x)\n",
    "print(y)"
   ]
  },
  {
   "cell_type": "code",
   "execution_count": 24,
   "metadata": {},
   "outputs": [
    {
     "name": "stdout",
     "output_type": "stream",
     "text": [
      "(array([4.44649421e+00, 7.65193606e+01, 6.74880572e+04]), array([[6.01757239e-03, 2.47540653e-02, 1.93950565e+02],\n",
      "       [2.47540653e-02, 1.14461533e-01, 9.13985806e+02],\n",
      "       [1.93950565e+02, 9.13985806e+02, 7.36280220e+06]]))\n",
      "covariances diagonal elements\n",
      "x =  4.446494211995874\n",
      "y =  76.519360588559\n",
      "z =  67488.05721636489\n"
     ]
    }
   ],
   "source": [
    "fit = curve_fit(L,x,y,p0=[2,100,20000])\n",
    "print(fit)\n",
    "print('covariances diagonal elements')\n",
    "print('x = ', fit[0][0])\n",
    "print('y = ', fit[0][1])\n",
    "print('z = ', fit[0][2])"
   ]
  },
  {
   "cell_type": "code",
   "execution_count": 25,
   "metadata": {},
   "outputs": [
    {
     "name": "stdout",
     "output_type": "stream",
     "text": [
      "[0.07757301330152125, 0.3383216415768642, 2713.4483955547853]\n",
      "[     +/- x,                +/- y,             +/- z       ]\n"
     ]
    }
   ],
   "source": [
    "errors = [np.sqrt(fit[1][i][i]) for i in [0,1,2]]\n",
    "print(errors)\n",
    "print('[     +/- x,                +/- y,             +/- z       ]')"
   ]
  },
  {
   "cell_type": "code",
   "execution_count": 26,
   "metadata": {},
   "outputs": [
    {
     "name": "stdout",
     "output_type": "stream",
     "text": [
      "The expected number of infected people at infection end is 67488.057 +/- 2713.45.\n"
     ]
    }
   ],
   "source": [
    "print(\"The expected number of infected people at infection end is 67488.057 +/- 2713.45.\")"
   ]
  },
  {
   "cell_type": "code",
   "execution_count": 27,
   "metadata": {},
   "outputs": [],
   "source": [
    "x1 = 4.446494211995874\n",
    "y1 = 76.519360588559\n",
    "z1 = 67488.05721636489\n",
    "a1 = list(df.iloc[:,0])\n",
    "infection_end = int(fsolve(lambda a1 : L(a1,x1,y1,z1) - int(z1),y1))"
   ]
  },
  {
   "cell_type": "code",
   "execution_count": 29,
   "metadata": {},
   "outputs": [
    {
     "data": {
      "image/png": "[encoded data removed]",
      "text/plain": [
       "<Figure size 576x360 with 1 Axes>"
      ]
     },
     "metadata": {
      "needs_background": "light"
     },
     "output_type": "display_data"
    }
   ],
   "source": [
    "x = list(df.iloc[:,0])\n",
    "y = list(df.iloc[:,1])\n",
    "x_param = list(range(max(x),infection_end))\n",
    "plt.rcParams['figure.figsize'] = [8, 5]\n",
    "plt.rc('font', size= 15)\n",
    "plt.scatter(x,y,label = \"Real data\",color = \"m\")\n",
    "# Predicted logistic curve\n",
    "plt.plot(x + x_param, [L(i,fit[0][0],fit[0][1],fit[0][2]) for i in x + x_param], label=\"Logistic model\" )\n",
    "plt.legend()\n",
    "plt.xlabel(\"Number of days since 1 January 2020   ---->\")\n",
    "plt.ylabel(\"<----       Number of infected people       ---->\")\n",
    "plt.ylim((min(y)*0.9,z1*1.1))\n",
    "plt.show()"
   ]
  },
  {
   "cell_type": "code",
   "execution_count": 30,
   "metadata": {},
   "outputs": [],
   "source": [
    "y_predicted = [L(i,fit[0][0],fit[0][1],fit[0][2]) for i in x]"
   ]
  },
  {
   "cell_type": "code",
   "execution_count": 31,
   "metadata": {},
   "outputs": [
    {
     "data": {
      "text/plain": [
       "43265.77353002209"
      ]
     },
     "execution_count": 31,
     "metadata": {},
     "output_type": "execute_result"
    }
   ],
   "source": [
    "mean_squared_error(y, y_predicted)"
   ]
  },
  {
   "cell_type": "markdown",
   "metadata": {},
   "source": [
    "## EXPONENTIAL MODEL "
   ]
  },
  {
   "cell_type": "code",
   "execution_count": 32,
   "metadata": {},
   "outputs": [],
   "source": [
    "# Exponential function that we will use: f(a, x, y, z): x . e^(y(a - z))\n",
    "#a => time\n",
    "#x => refers to the infection speed\n",
    "#y => day of max infections (possible inflection point. dL/dx starts to decrease)\n",
    "#z => total number of recorded infected people at the end of this infection(number of infected people \n",
    "                                                                      #gets closer to z as time t increases)"
   ]
  },
  {
   "cell_type": "code",
   "execution_count": 33,
   "metadata": {},
   "outputs": [],
   "source": [
    "def f(a,x,y,z):\n",
    "    return x*np.exp(y*(a-z))"
   ]
  },
  {
   "cell_type": "code",
   "execution_count": 34,
   "metadata": {},
   "outputs": [
    {
     "data": {
      "image/gif": "[encoded data removed]",
      "text/plain": [
       "<IPython.core.display.Image object>"
      ]
     },
     "execution_count": 34,
     "metadata": {},
     "output_type": "execute_result"
    }
   ],
   "source": [
    "from IPython.display import Image\n",
    "Image(filename='/Users/shreyash/Downloads/CodeCogsEqn (1).gif')"
   ]
  },
  {
   "cell_type": "code",
   "execution_count": 35,
   "metadata": {},
   "outputs": [
    {
     "name": "stdout",
     "output_type": "stream",
     "text": [
      "(array([4.30566978e+02, 1.61522085e-01, 4.93237916e+01]), array([[6.67942887e+18, 7.61138889e+06, 9.60432241e+16],\n",
      "       [7.61138571e+06, 2.75708906e-05, 1.09443795e+05],\n",
      "       [9.60432241e+16, 1.09443842e+05, 1.38100144e+15]]))\n",
      "covariances diagonal elements\n",
      "x =  430.5669779496916\n",
      "y =  0.1615220851218071\n",
      "z =  49.32379164085626\n"
     ]
    }
   ],
   "source": [
    "exp_fit = curve_fit(f,x,y, p0 = [100, 1, 20])\n",
    "print(exp_fit)\n",
    "print('covariances diagonal elements')\n",
    "print('x = ', exp_fit[0][0])\n",
    "print('y = ', exp_fit[0][1])\n",
    "print('z = ', exp_fit[0][2])"
   ]
  },
  {
   "cell_type": "code",
   "execution_count": 36,
   "metadata": {},
   "outputs": [
    {
     "name": "stdout",
     "output_type": "stream",
     "text": [
      "[0.07757301330152125, 0.3383216415768642, 2713.4483955547853]\n",
      "[     +/- x,                +/- y,             +/- z       ]\n"
     ]
    }
   ],
   "source": [
    "errors = [np.sqrt(fit[1][i][i]) for i in [0,1,2]]\n",
    "print(errors)\n",
    "print('[     +/- x,                +/- y,             +/- z       ]')"
   ]
  },
  {
   "cell_type": "code",
   "execution_count": 40,
   "metadata": {},
   "outputs": [
    {
     "data": {
      "image/png": "[encoded data removed]",
      "text/plain": [
       "<Figure size 576x360 with 1 Axes>"
      ]
     },
     "metadata": {
      "needs_background": "light"
     },
     "output_type": "display_data"
    }
   ],
   "source": [
    "x_param = list(range(max(x),infection_end))\n",
    "plt.rcParams['figure.figsize'] = [8, 5]\n",
    "plt.rc('font', size=14)\n",
    "# Real data\n",
    "plt.scatter(x,y,label=\"Real data\",color=\"m\")\n",
    "\n",
    "# Predicted exponential curve\n",
    "plt.plot(x+x_param, [f(i,exp_fit[0][0],exp_fit[0][1],exp_fit[0][2]) for i in x+x_param], label=\"Exponential model\" )\n",
    "plt.legend()\n",
    "plt.xlabel(\"Days since 1 January 2020\")\n",
    "plt.ylabel(\"Total number of infected people\")\n",
    "plt.ylim((min(y)*0.9,z1*1.9))\n",
    "plt.show()"
   ]
  },
  {
   "cell_type": "code",
   "execution_count": 42,
   "metadata": {},
   "outputs": [
    {
     "data": {
      "text/plain": [
       "784172.0284428668"
      ]
     },
     "execution_count": 42,
     "metadata": {},
     "output_type": "execute_result"
    }
   ],
   "source": [
    "y_predicted =  [f(i,exp_fit[0][0], exp_fit[0][1], exp_fit[0][2]) for i in x]\n",
    "mean_squared_error(y,y_predicted)"
   ]
  },
  {
   "cell_type": "markdown",
   "metadata": {},
   "source": [
    " ******\n",
    "Exponential model has a greater error. \n",
    "<br> Thus Logistic model  is a better fit"
   ]
  },
  {
   "cell_type": "code",
   "execution_count": null,
   "metadata": {},
   "outputs": [],
   "source": []
  }
 ],
 "metadata": {
  "kernelspec": {
   "display_name": "Python 3",
   "language": "python",
   "name": "python3"
  },
  "language_info": {
   "codemirror_mode": {
    "name": "ipython",
    "version": 3
   },
   "file_extension": ".py",
   "mimetype": "text/x-python",
   "name": "python",
   "nbconvert_exporter": "python",
   "pygments_lexer": "ipython3",
   "version": "3.7.3"
  }
 },
 "nbformat": 4,
 "nbformat_minor": 2
}
